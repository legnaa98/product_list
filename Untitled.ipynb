{
 "cells": [
  {
   "cell_type": "code",
   "execution_count": 12,
   "id": "ranging-alloy",
   "metadata": {},
   "outputs": [],
   "source": [
    "from selenium import webdriver\n",
    "from selenium.webdriver.common.by import By"
   ]
  },
  {
   "cell_type": "code",
   "execution_count": 14,
   "id": "marked-criterion",
   "metadata": {},
   "outputs": [],
   "source": [
    "# define the web browser\n",
    "driver = webdriver.Chrome()\n",
    "# go to the webpage\n",
    "driver.get(\"https://www.catalogospromocionales.com/seccion/subcategorias.html\")"
   ]
  },
  {
   "cell_type": "code",
   "execution_count": null,
   "id": "assigned-pacific",
   "metadata": {},
   "outputs": [],
   "source": []
  }
 ],
 "metadata": {
  "kernelspec": {
   "display_name": "Python 3",
   "language": "python",
   "name": "python3"
  },
  "language_info": {
   "codemirror_mode": {
    "name": "ipython",
    "version": 3
   },
   "file_extension": ".py",
   "mimetype": "text/x-python",
   "name": "python",
   "nbconvert_exporter": "python",
   "pygments_lexer": "ipython3",
   "version": "3.9.1"
  }
 },
 "nbformat": 4,
 "nbformat_minor": 5
}
